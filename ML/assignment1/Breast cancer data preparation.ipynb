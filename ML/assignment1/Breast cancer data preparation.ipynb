{
 "cells": [
  {
   "cell_type": "markdown",
   "id": "604a88ec",
   "metadata": {},
   "source": [
    "# Breast cancer dataset preprocessing\n",
    "## Assignment: 01 Machine Learning, downloading and preprocessing a dataset\n",
    "\n",
    "Author: Muhammad Faizan\n",
    "\n",
    "Registration: 400941\n",
    "\n",
    "Subject: Machine learning\n",
    "\n",
    "\n",
    "I download this dataset from [UCI machine learning repository](http://archive.ics.uci.edu/ml/datasets/breast+cancer+wisconsin+%28diagnostic%29). This data has been downloaded for learning purposes, and using raw data for pre-processing and data splitting for training, validation, and test.\n",
    "\n",
    "The following topics will expolred in this notebook:\n",
    " - Downloading data\n",
    " - reading the data\n",
    " - using python libaries to check for missing values\n",
    " - proprocessing \n",
    " - data visulization\n",
    " - data splitting"
   ]
  },
  {
   "cell_type": "code",
   "execution_count": 175,
   "id": "872925b3",
   "metadata": {},
   "outputs": [],
   "source": [
    "#import neccessary libaries\n",
    "import numpy as np\n",
    "import pandas  as pd\n",
    "import matplotlib.pyplot as plt\n",
    "import sklearn\n",
    "import os\n",
    "import random\n",
    "from sklearn.model_selection import train_test_split\n",
    "from sklearn.impute import SimpleImputer"
   ]
  },
  {
   "cell_type": "markdown",
   "id": "ac571db4",
   "metadata": {},
   "source": [
    "### reading the dataset from a directory in local machine\n"
   ]
  },
  {
   "cell_type": "code",
   "execution_count": 208,
   "id": "c6c9d373",
   "metadata": {},
   "outputs": [],
   "source": [
    "\n",
    "def check_path(path):\n",
    "    \"\"\"check if path exits or not\n",
    "    \n",
    "    args:\n",
    "        path: str, path to the file or directory\"\"\"\n",
    "    \n",
    "    if os.path.exists(data_dir):\n",
    "        print(\"Dataset exits!!\")\n",
    "    else:\n",
    "        print(\"Oops!! dataset doesn't exist, please download it\")"
   ]
  },
  {
   "cell_type": "code",
   "execution_count": 209,
   "id": "b5375413",
   "metadata": {},
   "outputs": [],
   "source": [
    "# %ls"
   ]
  },
  {
   "cell_type": "code",
   "execution_count": 210,
   "id": "92192be0",
   "metadata": {},
   "outputs": [
    {
     "name": "stdout",
     "output_type": "stream",
     "text": [
      "Dataset exits!!\n"
     ]
    }
   ],
   "source": [
    "data_dir = \"data\" \n",
    "breast_cancer_dataset = os.path.join(data_dir, \"breast-cancer-wisconsin.data\")\n",
    "check_path(breast_cancer_dataset)"
   ]
  },
  {
   "cell_type": "code",
   "execution_count": 211,
   "id": "d43bc8f3",
   "metadata": {},
   "outputs": [],
   "source": [
    "data =  pd.read_csv(breast_cancer_dataset, sep=\",\")\n"
   ]
  },
  {
   "cell_type": "markdown",
   "id": "145af43f",
   "metadata": {},
   "source": [
    "### adding columns names to the data from names file"
   ]
  },
  {
   "cell_type": "code",
   "execution_count": 212,
   "id": "6ace6cea",
   "metadata": {},
   "outputs": [
    {
     "name": "stdout",
     "output_type": "stream",
     "text": [
      "shape of data: (698, 11)\n"
     ]
    },
    {
     "data": {
      "text/html": [
       "<div>\n",
       "<style scoped>\n",
       "    .dataframe tbody tr th:only-of-type {\n",
       "        vertical-align: middle;\n",
       "    }\n",
       "\n",
       "    .dataframe tbody tr th {\n",
       "        vertical-align: top;\n",
       "    }\n",
       "\n",
       "    .dataframe thead th {\n",
       "        text-align: right;\n",
       "    }\n",
       "</style>\n",
       "<table border=\"1\" class=\"dataframe\">\n",
       "  <thead>\n",
       "    <tr style=\"text-align: right;\">\n",
       "      <th></th>\n",
       "      <th>Sample code number</th>\n",
       "      <th>Clump Thickness</th>\n",
       "      <th>Uniformity of Cell Size</th>\n",
       "      <th>Uniformity of Cell Shape</th>\n",
       "      <th>Marginal Adhesion</th>\n",
       "      <th>Single Epithelial Cell Size</th>\n",
       "      <th>Bare Nuclei</th>\n",
       "      <th>Bland Chromatin</th>\n",
       "      <th>Normal Nucleoli</th>\n",
       "      <th>Mitoses</th>\n",
       "      <th>Class</th>\n",
       "    </tr>\n",
       "  </thead>\n",
       "  <tbody>\n",
       "    <tr>\n",
       "      <th>0</th>\n",
       "      <td>1002945</td>\n",
       "      <td>5</td>\n",
       "      <td>4</td>\n",
       "      <td>4</td>\n",
       "      <td>5</td>\n",
       "      <td>7</td>\n",
       "      <td>10</td>\n",
       "      <td>3</td>\n",
       "      <td>2</td>\n",
       "      <td>1</td>\n",
       "      <td>2</td>\n",
       "    </tr>\n",
       "    <tr>\n",
       "      <th>1</th>\n",
       "      <td>1015425</td>\n",
       "      <td>3</td>\n",
       "      <td>1</td>\n",
       "      <td>1</td>\n",
       "      <td>1</td>\n",
       "      <td>2</td>\n",
       "      <td>2</td>\n",
       "      <td>3</td>\n",
       "      <td>1</td>\n",
       "      <td>1</td>\n",
       "      <td>2</td>\n",
       "    </tr>\n",
       "    <tr>\n",
       "      <th>2</th>\n",
       "      <td>1016277</td>\n",
       "      <td>6</td>\n",
       "      <td>8</td>\n",
       "      <td>8</td>\n",
       "      <td>1</td>\n",
       "      <td>3</td>\n",
       "      <td>4</td>\n",
       "      <td>3</td>\n",
       "      <td>7</td>\n",
       "      <td>1</td>\n",
       "      <td>2</td>\n",
       "    </tr>\n",
       "    <tr>\n",
       "      <th>3</th>\n",
       "      <td>1017023</td>\n",
       "      <td>4</td>\n",
       "      <td>1</td>\n",
       "      <td>1</td>\n",
       "      <td>3</td>\n",
       "      <td>2</td>\n",
       "      <td>1</td>\n",
       "      <td>3</td>\n",
       "      <td>1</td>\n",
       "      <td>1</td>\n",
       "      <td>2</td>\n",
       "    </tr>\n",
       "    <tr>\n",
       "      <th>4</th>\n",
       "      <td>1017122</td>\n",
       "      <td>8</td>\n",
       "      <td>10</td>\n",
       "      <td>10</td>\n",
       "      <td>8</td>\n",
       "      <td>7</td>\n",
       "      <td>10</td>\n",
       "      <td>9</td>\n",
       "      <td>7</td>\n",
       "      <td>1</td>\n",
       "      <td>4</td>\n",
       "    </tr>\n",
       "  </tbody>\n",
       "</table>\n",
       "</div>"
      ],
      "text/plain": [
       "   Sample code number  Clump Thickness  Uniformity of Cell Size  \\\n",
       "0             1002945                5                        4   \n",
       "1             1015425                3                        1   \n",
       "2             1016277                6                        8   \n",
       "3             1017023                4                        1   \n",
       "4             1017122                8                       10   \n",
       "\n",
       "   Uniformity of Cell Shape  Marginal Adhesion  Single Epithelial Cell Size  \\\n",
       "0                         4                  5                            7   \n",
       "1                         1                  1                            2   \n",
       "2                         8                  1                            3   \n",
       "3                         1                  3                            2   \n",
       "4                        10                  8                            7   \n",
       "\n",
       "  Bare Nuclei  Bland Chromatin  Normal Nucleoli  Mitoses  Class  \n",
       "0          10                3                2        1      2  \n",
       "1           2                3                1        1      2  \n",
       "2           4                3                7        1      2  \n",
       "3           1                3                1        1      2  \n",
       "4          10                9                7        1      4  "
      ]
     },
     "execution_count": 212,
     "metadata": {},
     "output_type": "execute_result"
    }
   ],
   "source": [
    "data.columns = [\"Sample code number\", \"Clump Thickness\", \"Uniformity of Cell Size\", \"Uniformity of Cell Shape\"\n",
    "               , \"Marginal Adhesion\", \"Single Epithelial Cell Size\", \"Bare Nuclei\", \"Bland Chromatin\", \"Normal Nucleoli\",\n",
    "               \"Mitoses\", \"Class\"]\n",
    "\n",
    "print(\"shape of data: {}\".format(data.shape))\n",
    "# print(\"data attributes info: {}\".format(data.columns))\n",
    "data.head()"
   ]
  },
  {
   "cell_type": "markdown",
   "id": "b90f09eb",
   "metadata": {},
   "source": [
    "### Replacing \"?\" with NaN"
   ]
  },
  {
   "cell_type": "code",
   "execution_count": 213,
   "id": "5ee04483",
   "metadata": {},
   "outputs": [
    {
     "name": "stdout",
     "output_type": "stream",
     "text": [
      "checking for missing values...\n",
      "Number of Na values in the dataset: Sample code number              0\n",
      "Clump Thickness                 0\n",
      "Uniformity of Cell Size         0\n",
      "Uniformity of Cell Shape        0\n",
      "Marginal Adhesion               0\n",
      "Single Epithelial Cell Size     0\n",
      "Bare Nuclei                    16\n",
      "Bland Chromatin                 0\n",
      "Normal Nucleoli                 0\n",
      "Mitoses                         0\n",
      "Class                           0\n",
      "dtype: int64\n"
     ]
    }
   ],
   "source": [
    "\n",
    "print(\"checking for missing values...\")\n",
    "data = data.replace(to_replace=r'\\?', value=np.nan, regex=True)\n",
    "print(f\"Number of Na values in the dataset: {data.isna().sum()}\")\n"
   ]
  },
  {
   "cell_type": "markdown",
   "id": "0b0f41b1",
   "metadata": {},
   "source": [
    "### Seperate out features from labels and split the dataset into train and test sets\n"
   ]
  },
  {
   "cell_type": "code",
   "execution_count": 214,
   "id": "3bc7674c",
   "metadata": {},
   "outputs": [
    {
     "name": "stdout",
     "output_type": "stream",
     "text": [
      "Features shape: (698, 10)\n",
      "labels or targets shape: (698, 1)\n"
     ]
    }
   ],
   "source": [
    "X_features = data.iloc[:, :10]\n",
    "print(f\"Features shape: {X_features.shape}\")\n",
    "\n",
    "\n",
    "y_labels = data.iloc[:, 10:]\n",
    "print(f\"labels or targets shape: {y_labels.shape}\")"
   ]
  },
  {
   "cell_type": "code",
   "execution_count": 215,
   "id": "e7b7ef9a",
   "metadata": {},
   "outputs": [],
   "source": [
    "X_train, X_test, Y_train, Y_test = train_test_split(X_features, y_labels, test_size = 0.20, random_state = 0)"
   ]
  },
  {
   "cell_type": "code",
   "execution_count": 216,
   "id": "644b450e",
   "metadata": {},
   "outputs": [
    {
     "name": "stdout",
     "output_type": "stream",
     "text": [
      "Splitting the dataset into training and test sets....\n",
      "Training features shape: (558, 10)\n",
      "Training targets shape: (558, 1)\n",
      "Test features shape: (140, 10)\n",
      "Test targets shape: (140, 1)\n"
     ]
    }
   ],
   "source": [
    "#now checking dataset shape\n",
    "print(\"Splitting the dataset into training and test sets....\")\n",
    "\n",
    "print(\"Training features shape: {}\".format(X_train.shape))\n",
    "print(\"Training targets shape: {}\".format(Y_train.shape))\n",
    "print(\"Test features shape: {}\".format(X_test.shape))\n",
    "print(\"Test targets shape: {}\".format(Y_test.shape))"
   ]
  },
  {
   "cell_type": "markdown",
   "id": "6057a773",
   "metadata": {},
   "source": [
    "### Normalizing the features to have 0 mean and 1 standard deviation \n",
    "features scaling is important for fast convergence and keeping the features in the same scale, it accleartes the training and improve model's performance"
   ]
  },
  {
   "cell_type": "code",
   "execution_count": 217,
   "id": "c1954e72",
   "metadata": {},
   "outputs": [],
   "source": [
    "def normalize(X):\n",
    "    \"\"\"normalize features to have 0 mean and 1 std deviation\n",
    "    \n",
    "    Args:\n",
    "        X: np.ndarray \n",
    "    \n",
    "    Return:\n",
    "        X_normalize: np.ndarray\"\"\"\n",
    "    mean = np.mean(X, axis = 0)\n",
    "    std = np.std(X, axis = 0)\n",
    "    X_normalized = (X - mean)/std\n",
    "    return X_normalized"
   ]
  },
  {
   "cell_type": "markdown",
   "id": "a16979a1",
   "metadata": {},
   "source": [
    "### interplote for missing values and replace with mean values of that column"
   ]
  },
  {
   "cell_type": "code",
   "execution_count": 218,
   "id": "70053cce",
   "metadata": {},
   "outputs": [],
   "source": [
    "\n",
    "def interpolate_missing_values(X):\n",
    "    \"\"\"interploate with nan values using sklearn function\n",
    "    \n",
    "    Args:\n",
    "        X: pd.DataFrame, input data\n",
    "    Return:\n",
    "        X_dot: np.ndarray, Transformed data\"\"\"\n",
    "    \n",
    "    imputer = SimpleImputer(missing_values=np.nan, strategy='mean')\n",
    "    imputer = imputer.fit(X)\n",
    "\n",
    "    X_dot = imputer.transform(X)\n",
    "    return X_dot"
   ]
  },
  {
   "cell_type": "code",
   "execution_count": 219,
   "id": "ef8b0ab7",
   "metadata": {},
   "outputs": [],
   "source": [
    "X_train = interpolate_missing_values(X_train)\n",
    "X_test  = interpolate_missing_values(X_test)\n",
    "\n",
    "Y_train = Y_train.to_numpy()\n",
    "Y_test = Y_test.to_numpy()"
   ]
  },
  {
   "cell_type": "markdown",
   "id": "503195bd",
   "metadata": {},
   "source": [
    "### Perform feature scaling "
   ]
  },
  {
   "cell_type": "code",
   "execution_count": 188,
   "id": "0d19ee05",
   "metadata": {},
   "outputs": [
    {
     "name": "stdout",
     "output_type": "stream",
     "text": [
      "before feature scaling\n",
      "Standard deviation and mean of X_train: 388143.3019753379, 108078.07236479931\n",
      "Standard deviation and mean of X_test: 323786.51788750227, 103618.00422918807\n",
      "\n",
      "\n",
      "After feature scaling\n",
      "Standard deviation and mean of X_train: 1.0, -8.91361854896183e-18\n",
      "Standard deviation and mean of X_test: 1.0, -8.881784197001253e-18\n"
     ]
    }
   ],
   "source": [
    "print(\"before feature scaling\")\n",
    "print(\"Standard deviation and mean of X_train: {}, {}\".format(X_train.std(), X_train.mean()))\n",
    "print(\"Standard deviation and mean of X_test: {}, {}\".format(X_test.std(), X_test.mean()))\n",
    "print(\"\\n\")\n",
    "\n",
    "X_train = normalize(X_train)\n",
    "X_test = normalize(X_test)\n",
    "\n",
    "print('After feature scaling')\n",
    "print(\"Standard deviation and mean of X_train: {}, {}\".format(X_train.std(), X_train.mean()))\n",
    "print(\"Standard deviation and mean of X_test: {}, {}\".format(X_test.std(), X_test.mean()))"
   ]
  }
 ],
 "metadata": {
  "kernelspec": {
   "display_name": "Python 3 (ipykernel)",
   "language": "python",
   "name": "python3"
  },
  "language_info": {
   "codemirror_mode": {
    "name": "ipython",
    "version": 3
   },
   "file_extension": ".py",
   "mimetype": "text/x-python",
   "name": "python",
   "nbconvert_exporter": "python",
   "pygments_lexer": "ipython3",
   "version": "3.9.5"
  }
 },
 "nbformat": 4,
 "nbformat_minor": 5
}
