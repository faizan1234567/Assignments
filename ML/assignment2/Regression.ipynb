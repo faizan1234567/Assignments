{
 "cells": [
  {
   "cell_type": "markdown",
   "metadata": {},
   "source": [
    "## Linear Regression\n",
    "Implementing linear regression, this will be generlized for both univariate and multivariate.\n",
    "\n",
    "key skills to learn \n",
    " - Univarite\n",
    " - Multivarite\n",
    " - Feature scaling\n",
    " - hypothesis or model prediction\n",
    " - weights initialization\n",
    " - Gradient computation\n",
    " - Cost function \n",
    " - Gradient descent update\n",
    " - plot cost \n",
    " \n",
    " "
   ]
  },
  {
   "cell_type": "code",
   "execution_count": null,
   "metadata": {},
   "outputs": [],
   "source": [
    "import numpy as np\n",
    "import matplotlib.pyplot as plt\n",
    "import os\n",
    "import sklearn\n",
    "import random\n",
    "import pandas as pd\n",
    "from sklearn import datasets, linear_model\n",
    "from sklearn.metrics import mean_squared_error, r2_score"
   ]
  },
  {
   "cell_type": "markdown",
   "metadata": {},
   "source": [
    "## Diabetes dataset \n",
    "This dataset is already preprocessed and divided into features and labels, we will use it to\n",
    "train linear regression models such multivarite and univariate."
   ]
  },
  {
   "cell_type": "code",
   "execution_count": null,
   "metadata": {},
   "outputs": [],
   "source": [
    "# get linear regression dataset from sklearn\n",
    "diabetes_X, diabetes_y = datasets.load_diabetes(return_X_y=True)\n",
    "\n",
    "\n",
    "X_train = diabetes_X\n",
    "Y_train = diabetes_y.reshape(1, -1).T"
   ]
  },
  {
   "cell_type": "markdown",
   "metadata": {},
   "source": [
    "## Define Regression model\n",
    "- option to define any hypothesis such uni and multivarite\n",
    "- weights initialization\n",
    "- feature scaling if not performed already \n"
   ]
  },
  {
   "cell_type": "markdown",
   "metadata": {},
   "source": [
    "## Calculate Derivate of cost with respect to parameters\n",
    "compute_gradients function calculates derivates of cost with respect to each of the parameters.\n",
    "The size of graidents should be same as paramters"
   ]
  },
  {
   "cell_type": "code",
   "execution_count": null,
   "metadata": {},
   "outputs": [],
   "source": [
    "def compute_gradients(X, Y, params):\n",
    "    \"\"\"calculate gradients of the cost with respect params\n",
    "    \n",
    "    Parameters\n",
    "    ----------\n",
    "    X: np.ndarray\n",
    "       features \n",
    "    Y: np.ndarray\n",
    "       labels\n",
    "    params: np.ndarray\n",
    "       model paramters\n",
    "    model: Model\n",
    "       linear regression hypothesis\n",
    "    \"\"\"\n",
    "\n",
    "    m = X.shape[0]\n",
    "    X = np.insert(X, 0, 1, axis = 1)\n",
    "    Y = Y.reshape(1, -1).T\n",
    "    dev = (1/m) * np.transpose(X) @ (X @ params - Y) \n",
    "\n",
    "    return dev"
   ]
  },
  {
   "cell_type": "code",
   "execution_count": null,
   "metadata": {},
   "outputs": [],
   "source": [
    "# #check gradients\n",
    "# gradients = compute_gradients(X_train, Y_train, params)\n",
    "# assert gradients.shape == params.shape, \"Error, shape doesnt match\""
   ]
  },
  {
   "cell_type": "markdown",
   "metadata": {},
   "source": [
    "## Apply Gradient Descent update \n",
    "apply gradient descent algorithm to update the parameters using gradient you calculated in the previous step."
   ]
  },
  {
   "cell_type": "code",
   "execution_count": null,
   "metadata": {},
   "outputs": [],
   "source": [
    "def gradient_descent(gradients, params, learning_rate = 1e-2):\n",
    "    '''gradient descent update\n",
    "    \n",
    "    Parameters\n",
    "    ----------\n",
    "    gradients: np.ndarray\n",
    "               derivatives of the cost w.r.t to params\n",
    "    params: np.ndarray\n",
    "               model params\n",
    "    learning_rate: float\n",
    "               learning rate for update\n",
    "    '''\n",
    "    assert params.shape == gradients.shape, f'Error, parameters and gradients should have the same dimensions, params: {params.shape} != {gradients.shape}'\n",
    "    params = params - learning_rate * gradients\n",
    "    return params"
   ]
  },
  {
   "cell_type": "markdown",
   "metadata": {},
   "source": [
    "## Train the model\n",
    "Now that every helper function is written, it's time to train the ML model. This will work as follows:\n",
    "repeat until convergence\n",
    "1. initialize weights ( at the first iteration only)\n",
    "2. calculate predictions\n",
    "3. measure cost between predictions and ground truth\n",
    "4. calculate gradients/derivatives of cost w.r.t to model learnable parameters\n",
    "5. update parameters using gradient descent algorithm\n",
    "\n",
    "if converges return parameters "
   ]
  },
  {
   "cell_type": "code",
   "execution_count": null,
   "metadata": {},
   "outputs": [],
   "source": [
    "def train(X, y, model, params, learning_rate = 1e-3, num_iter = 20000, print_cost = True, regression = None):\n",
    "    \"\"\"train the machine learning model now\n",
    "    \n",
    "    Parameters\n",
    "    ----------\n",
    "    X: np.ndarray\n",
    "       input features\n",
    "    y: np.ndarray\n",
    "       labels\n",
    "    params: np.ndarray\n",
    "       initial weights\n",
    "    learning_rate: float\n",
    "       learning rate value for gd update\n",
    "    num_iter: int\n",
    "       number of interations to train the model for\n",
    "    \"\"\"\n",
    "    costs = []\n",
    "    iters = []\n",
    "    for i in range(num_iter):\n",
    "        if regression is None:\n",
    "            predictions = model.linear_regression(params)\n",
    "        else:\n",
    "            predictions = model.polynomial_regression(regression)\n",
    "        cost = compute_cost(y, predictions)\n",
    "        gradients = compute_gradients(X, y, params)\n",
    "        params = gradient_descent(gradients, params, learning_rate)\n",
    "        \n",
    "        if i % 1000 == 0 and print_cost:\n",
    "            costs.append(cost)\n",
    "            iters.append(i)\n",
    "            print(f\"iteration: {i}, cost: {cost:.3f}\")\n",
    "    plt.plot(iters, costs, \"b-\", linewidth = 2)\n",
    "    plt.xlabel(\"iterations\")\n",
    "    plt.ylabel(\"cost\")\n",
    "    plt.title(\"learning curve\")\n",
    "    return params"
   ]
  },
  {
   "cell_type": "markdown",
   "metadata": {},
   "source": [
    "## Divide the dataset into test and train"
   ]
  },
  {
   "cell_type": "code",
   "execution_count": null,
   "metadata": {},
   "outputs": [],
   "source": [
    "diabetes_X = diabetes_X[:, np.newaxis, 2]\n",
    "\n",
    "# Split the data into training/testing sets\n",
    "diabetes_X_train = diabetes_X[:-20]\n",
    "diabetes_X_test = diabetes_X[-20:]\n",
    "\n",
    "# Split the targets into training/testing sets\n",
    "diabetes_y_train = diabetes_y[:-20]\n",
    "diabetes_y_test = diabetes_y[-20:]\n"
   ]
  },
  {
   "cell_type": "code",
   "execution_count": null,
   "metadata": {},
   "outputs": [],
   "source": [
    "print(f'training features: {diabetes_X_train.shape}, and training labels: {diabetes_y_train.shape}')\n",
    "print(f'testing features: {diabetes_X_test.shape}, and training labels: {diabetes_y_test.shape}')\n"
   ]
  },
  {
   "cell_type": "code",
   "execution_count": null,
   "metadata": {},
   "outputs": [],
   "source": [
    "plt.scatter(diabetes_X_test, diabetes_y_test, color = \"green\")\n",
    "plt.xlabel(\"features\"), plt.ylabel(\"label\")"
   ]
  },
  {
   "cell_type": "code",
   "execution_count": null,
   "metadata": {},
   "outputs": [],
   "source": [
    "# Now train...\n",
    "model = Model(diabetes_X_train, diabetes_y_train)\n",
    "params = model.initailize_params()\n",
    "# print(params.shape)\n",
    "params = train(diabetes_X_train, diabetes_y_train, model, params, regression = None)"
   ]
  },
  {
   "cell_type": "markdown",
   "metadata": {},
   "source": [
    "## SKlearn implementation\n"
   ]
  },
  {
   "cell_type": "code",
   "execution_count": null,
   "metadata": {},
   "outputs": [],
   "source": [
    "regr = linear_model.LinearRegression()\n",
    "\n",
    "# Train the model using the training sets\n",
    "regr.fit(diabetes_X_train, diabetes_y_train)\n",
    "\n",
    "# Make predictions using the testing set\n",
    "diabetes_y_pred = regr.predict(diabetes_X_test)\n",
    "\n",
    "# The coefficients\n",
    "print(\"Coefficients: \\n\", regr.coef_)\n",
    "# The mean squared error\n",
    "print(\"Mean squared error: %.2f\" % mean_squared_error(diabetes_y_test, diabetes_y_pred))\n",
    "# The coefficient of determination: 1 is perfect prediction\n",
    "print(\"Coefficient of determination: %.2f\" % r2_score(diabetes_y_test, diabetes_y_pred))\n",
    "\n",
    "# Plot outputs\n",
    "plt.scatter(diabetes_X_test, diabetes_y_test, color=\"black\")\n",
    "cus_pred = model.linear_regression(params)\n",
    "plt.plot(diabetes_X_test, diabetes_y_pred, color=\"blue\", linewidth=3)\n",
    "plt.plot(diabetes_X_test, cus_pred, color=\"green\", linewidth = 3)\n",
    "\n",
    "plt.xticks(())\n",
    "plt.yticks(())\n",
    "\n",
    "plt.show()"
   ]
  },
  {
   "cell_type": "code",
   "execution_count": null,
   "metadata": {},
   "outputs": [],
   "source": [
    "diabetes_X_test = np.insert(diabetes_X_test, 0, 1, axis =1)\n",
    "diabetes_X_test.shape"
   ]
  },
  {
   "cell_type": "code",
   "execution_count": null,
   "metadata": {},
   "outputs": [],
   "source": [
    "X_dummy = np.linspace(1, 100, 50).reshape(1, -1).T"
   ]
  },
  {
   "cell_type": "code",
   "execution_count": null,
   "metadata": {},
   "outputs": [],
   "source": [
    "Y_dummy = 3 * X_dummy + 1"
   ]
  },
  {
   "cell_type": "code",
   "execution_count": null,
   "metadata": {},
   "outputs": [],
   "source": [
    "plt.plot(X_dummy, Y_dummy, 'r-', linewidth = 2)\n",
    "plt.scatter(X_dummy, Y_dummy, color = 'b')\n",
    "plt.show()"
   ]
  },
  {
   "cell_type": "code",
   "execution_count": null,
   "metadata": {},
   "outputs": [],
   "source": []
  }
 ],
 "metadata": {
  "kernelspec": {
   "display_name": "Python 3 (ipykernel)",
   "language": "python",
   "name": "python3"
  },
  "language_info": {
   "codemirror_mode": {
    "name": "ipython",
    "version": 3
   },
   "file_extension": ".py",
   "mimetype": "text/x-python",
   "name": "python",
   "nbconvert_exporter": "python",
   "pygments_lexer": "ipython3",
   "version": "3.9.16"
  }
 },
 "nbformat": 4,
 "nbformat_minor": 5
}
