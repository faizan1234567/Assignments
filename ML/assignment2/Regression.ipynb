{
 "cells": [
  {
   "cell_type": "markdown",
   "id": "69334b63",
   "metadata": {},
   "source": [
    "## Linear Regression\n",
    "Implementing linear regression, this will be generlized for both univariate and multivariate.\n",
    "\n",
    "key skills to learn \n",
    " - Univarite\n",
    " - Multivarite\n",
    " - Feature scaling\n",
    " - hypothesis or model prediction\n",
    " - weights initialization\n",
    " - Gradient computation\n",
    " - Cost function \n",
    " - Gradient descent update\n",
    " - plot cost \n",
    " \n",
    " "
   ]
  },
  {
   "cell_type": "code",
   "execution_count": 1,
   "id": "afe72396",
   "metadata": {},
   "outputs": [],
   "source": [
    "import numpy as np\n",
    "import matplotlib.pyplot as plt\n",
    "import os\n",
    "import sklearn\n",
    "import random\n",
    "import pandas as pd\n",
    "from sklearn import datasets, linear_model\n",
    "from sklearn.metrics import mean_squared_error, r2_score"
   ]
  },
  {
   "cell_type": "markdown",
   "id": "87a27858",
   "metadata": {},
   "source": [
    "## Diabetes dataset \n",
    "This dataset is already preprocessed and divided into features and labels, we will use it to\n",
    "train linear regression models such multivarite and univariate."
   ]
  },
  {
   "cell_type": "code",
   "execution_count": 2,
   "id": "983c4e1f",
   "metadata": {},
   "outputs": [],
   "source": [
    "# get linear regression dataset from sklearn\n",
    "diabetes_X, diabetes_y = datasets.load_diabetes(return_X_y=True)\n",
    "\n",
    "\n",
    "X_train = diabetes_X\n",
    "Y_train = diabetes_y.reshape(1, -1).T"
   ]
  },
  {
   "cell_type": "markdown",
   "id": "eaf59894",
   "metadata": {},
   "source": [
    "## Define Regression model\n",
    "- option to define any hypothesis such uni and multivarite\n",
    "- weights initialization\n",
    "- feature scaling if not performed already \n"
   ]
  },
  {
   "cell_type": "code",
   "execution_count": 29,
   "id": "445e3033",
   "metadata": {},
   "outputs": [],
   "source": [
    "class Model:\n",
    "    \"\"\"define a model type such as linear regression with multiple variables and polynomial regression etc.\n",
    "    \n",
    "    Parameters\n",
    "    ---------\n",
    "    X: np.ndarray\n",
    "       input features, already normalized. Shape: (m, nx)\n",
    "    y: np.ndarray\n",
    "       ground truth labels for each example. Shape: (m, 1), where 2 for begnin and 4 for malignant\n",
    "    epsilon: float\n",
    "       a value to use to randomly initialize weights and scale them\n",
    "    model_name: str\n",
    "       type of the regression model such as linear regression, polynomail regression, or any other type\n",
    "    \n",
    "        \n",
    "    \"\"\"\n",
    "    def __init__(self, X, y, epsilon = 100, model_name = \"linear_regression\"):\n",
    "        self.X_orig = X\n",
    "        self.X = np.insert(X, 0, 1, axis = 1)\n",
    "        self.y = y\n",
    "        self.m = X.shape[0]\n",
    "        self.epsilon = epsilon\n",
    "        \n",
    "    def initailize_params(self, shape = None):\n",
    "        if shape is None:\n",
    "            theta = np.random.randn(self.X.shape[1], 1) * self.epsilon\n",
    "        else:\n",
    "            theta = np.random.randn(shape[0], shape[1]) * self.epsilon\n",
    "        return theta\n",
    "        \n",
    "    \n",
    "    def linear_regression(self, params):\n",
    "        return self.X @ params\n",
    "    \n",
    "    def polynomial_regression(self, kind = \"quadratic\"):\n",
    "        \n",
    "        if kind == \"3rd order\" and self.X_orig.shape[1] == 1:\n",
    "            X = np.c_[np.ones(self.m), self.X_orig, np.square(self.X_orig), np.power(self.X_orig, 3)]\n",
    "            m, features = X.shape\n",
    "            params = self.initailize_params((features, 1))\n",
    "            hypothesis = X @ params\n",
    "        elif kind == \"quadratic\" and self.X_orig.shape[1] == 1:\n",
    "            X = np.c_[np.ones(self.m), self.X_orig, np.square(self.X_orig)]\n",
    "            m, features = X.shape\n",
    "            params = self.initailize_params((features, 1))\n",
    "            hypothesis = X @ params\n",
    "        elif kind == \"higer order\" and self.X_orig.shape[1] == 1:\n",
    "            X = np.c_[np.ones(self.m),  np.square(self.X_orig), np.power(self.X_orig, 3), np.power(self.X_orig, 4), \n",
    "                     np.power(self.X_orig, 5), np.power(self.X_orig, 6), np.power(self.X_orig, 7), np.power(self.X_orig, 8),\n",
    "                     np.power(self.X_orig, 9), np.power(self.X_orig, 10)]\n",
    "            m, features = X.shape\n",
    "            params = self.initailize_params((features, 1))\n",
    "            hypothesis = X @ params\n",
    "        return hypothesis\n",
    "    \n",
    "    def normalize(self, X):\n",
    "        \"\"\"normalize features to have 0 mean and 1 std deviation\n",
    "\n",
    "        Args:\n",
    "            X: np.ndarray \n",
    "\n",
    "        Return:\n",
    "            X_normalize: np.ndarray\"\"\"\n",
    "        mean = np.mean(X, axis = 0)\n",
    "        std = np.std(X, axis = 0)\n",
    "        X_normalized = (X - mean)/std\n",
    "        return X_normalized\n",
    "    \n",
    "    \n",
    "        \n",
    "        \n",
    "model = Model(X_train, Y_train)\n",
    "params = model.initailize_params()\n",
    "linear_regression = model.linear_regression(params)\n",
    "assert linear_regression.shape == Y_train.shape, \"Error: Model prediction dimension and ground truth dimesion doesn't match\"\n"
   ]
  },
  {
   "cell_type": "markdown",
   "id": "642880f8",
   "metadata": {},
   "source": [
    "## Cost Function\n",
    "least square cost function that takes predictions and ground truth labels to measure how close \n",
    "they are to each other. The cost will be minimal if they are closed, and maximum when they are opposite of each other.\n"
   ]
  },
  {
   "cell_type": "code",
   "execution_count": 4,
   "id": "9ae04372",
   "metadata": {},
   "outputs": [],
   "source": [
    "def compute_cost(Y, predictions):\n",
    "    \"\"\"compute the cost for the model prediction on the dataset\n",
    "    \n",
    "    Parameters\n",
    "    ----------\n",
    "    Y: np.ndarray\n",
    "       Ground truth labels for the features in the dataset\n",
    "    predictions: np.ndarray\n",
    "       Model prediction on the training set\n",
    "    \"\"\"\n",
    "    # number of training examples in the dataset\n",
    "    Y = Y.reshape(1, -1).T\n",
    "    predictions = predictions.reshape(1, -1).T\n",
    "    m = Y.shape[0]\n",
    "    cost = (1/(2*m)) * np.transpose((predictions - Y))@(predictions - Y)\n",
    "    cost = np.squeeze(cost)\n",
    "    return cost"
   ]
  },
  {
   "cell_type": "code",
   "execution_count": 5,
   "id": "bc3fe42a",
   "metadata": {},
   "outputs": [
    {
     "name": "stdout",
     "output_type": "stream",
     "text": [
      "Cost: 0.125\n"
     ]
    }
   ],
   "source": [
    "#Test cases cost funtion\n",
    "predictions = np.array([[1, 1, 1, 0]], dtype = np.float32)\n",
    "labels = np.array([[1, 0, 1, 0]], dtype = np.float32)\n",
    "print(f\"Cost: \" + str(compute_cost(labels, predictions)))"
   ]
  },
  {
   "cell_type": "markdown",
   "id": "87078536",
   "metadata": {},
   "source": [
    "## Calculate Derivate of cost with respect to parameters\n",
    "compute_gradients function calculates derivates of cost with respect to each of the parameters.\n",
    "The size of graidents should be same as paramters"
   ]
  },
  {
   "cell_type": "code",
   "execution_count": 6,
   "id": "9b2735fd",
   "metadata": {},
   "outputs": [],
   "source": [
    "def compute_gradients(X, Y, params):\n",
    "    \"\"\"calculate gradients of the cost with respect params\n",
    "    \n",
    "    Parameters\n",
    "    ----------\n",
    "    X: np.ndarray\n",
    "       features \n",
    "    Y: np.ndarray\n",
    "       labels\n",
    "    params: np.ndarray\n",
    "       model paramters\n",
    "    model: Model\n",
    "       linear regression hypothesis\n",
    "    \"\"\"\n",
    "\n",
    "    m = X.shape[0]\n",
    "    X = np.insert(X, 0, 1, axis = 1)\n",
    "    Y = Y.reshape(1, -1).T\n",
    "    dev = (1/m) * np.transpose(X) @ (X @ params - Y) \n",
    "\n",
    "    return dev"
   ]
  },
  {
   "cell_type": "code",
   "execution_count": 7,
   "id": "6039e110",
   "metadata": {},
   "outputs": [],
   "source": [
    "#check gradients\n",
    "gradients = compute_gradients(X_train, Y_train, params)\n",
    "assert gradients.shape == params.shape, \"Error, shape doesnt match\""
   ]
  },
  {
   "cell_type": "markdown",
   "id": "354a66f5",
   "metadata": {},
   "source": [
    "## Apply Gradient Descent update \n",
    "apply gradient descent algorithm to update the parameters using gradient you calculated in the previous step."
   ]
  },
  {
   "cell_type": "code",
   "execution_count": 8,
   "id": "249c8e2f",
   "metadata": {},
   "outputs": [],
   "source": [
    "def gradient_descent(gradients, params, learning_rate = 1e-2):\n",
    "    '''gradient descent update\n",
    "    \n",
    "    Parameters\n",
    "    ----------\n",
    "    gradients: np.ndarray\n",
    "               derivatives of the cost w.r.t to params\n",
    "    params: np.ndarray\n",
    "               model params\n",
    "    learning_rate: float\n",
    "               learning rate for update\n",
    "    '''\n",
    "    assert params.shape == gradients.shape, f'Error, parameters and gradients should have the same dimensions, params: {params.shape} != {gradients.shape}'\n",
    "    params = params - learning_rate * gradients\n",
    "    return params"
   ]
  },
  {
   "cell_type": "markdown",
   "id": "f45daa07",
   "metadata": {},
   "source": [
    "## Train the model\n",
    "Now that every helper function is written, it's time to train the ML model. This will work as follows:\n",
    "repeat until convergence\n",
    "1. initialize weights ( at the first iteration only)\n",
    "2. calculate predictions\n",
    "3. measure cost between predictions and ground truth\n",
    "4. calculate gradients/derivatives of cost w.r.t to model learnable parameters\n",
    "5. update parameters using gradient descent algorithm\n",
    "\n",
    "if converges return parameters "
   ]
  },
  {
   "cell_type": "code",
   "execution_count": 34,
   "id": "18ae3700",
   "metadata": {},
   "outputs": [],
   "source": [
    "def train(X, y, model, params, learning_rate = 1e-3, num_iter = 20000, print_cost = True, regression = None):\n",
    "    \"\"\"train the machine learning model now\n",
    "    \n",
    "    Parameters\n",
    "    ----------\n",
    "    X: np.ndarray\n",
    "       input features\n",
    "    y: np.ndarray\n",
    "       labels\n",
    "    params: np.ndarray\n",
    "       initial weights\n",
    "    learning_rate: float\n",
    "       learning rate value for gd update\n",
    "    num_iter: int\n",
    "       number of interations to train the model for\n",
    "    \"\"\"\n",
    "    costs = []\n",
    "    iters = []\n",
    "    for i in range(num_iter):\n",
    "        if regression is None:\n",
    "            predictions = model.linear_regression(params)\n",
    "        else:\n",
    "            predictions = model.polynomial_regression(regression)\n",
    "        cost = compute_cost(y, predictions)\n",
    "        gradients = compute_gradients(X, y, params)\n",
    "        params = gradient_descent(gradients, params, learning_rate)\n",
    "        \n",
    "        if i % 1000 == 0 and print_cost:\n",
    "            costs.append(cost)\n",
    "            iters.append(i)\n",
    "            print(f\"iteration: {i}, cost: {cost}\")\n",
    "    plt.plot(iters, costs, \"b-\")\n",
    "    plt.xlabel(\"iterations\")\n",
    "    plt.ylabel(\"cost\")\n",
    "    plt.title(\"learning curve\")\n",
    "    return params"
   ]
  },
  {
   "cell_type": "markdown",
   "id": "e91dee30",
   "metadata": {},
   "source": [
    "## Divide the dataset into test and train"
   ]
  },
  {
   "cell_type": "code",
   "execution_count": 11,
   "id": "ff2d3d2c",
   "metadata": {},
   "outputs": [],
   "source": [
    "diabetes_X = diabetes_X[:, np.newaxis, 2]\n",
    "\n",
    "# Split the data into training/testing sets\n",
    "diabetes_X_train = diabetes_X[:-20]\n",
    "diabetes_X_test = diabetes_X[-20:]\n",
    "\n",
    "# Split the targets into training/testing sets\n",
    "diabetes_y_train = diabetes_y[:-20]\n",
    "diabetes_y_test = diabetes_y[-20:]\n"
   ]
  },
  {
   "cell_type": "code",
   "execution_count": 12,
   "id": "50a2c674",
   "metadata": {},
   "outputs": [
    {
     "name": "stdout",
     "output_type": "stream",
     "text": [
      "training features: (422, 1), and training labels: (422,)\n",
      "testing features: (20, 1), and training labels: (20,)\n"
     ]
    }
   ],
   "source": [
    "print(f'training features: {diabetes_X_train.shape}, and training labels: {diabetes_y_train.shape}')\n",
    "print(f'testing features: {diabetes_X_test.shape}, and training labels: {diabetes_y_test.shape}')\n"
   ]
  },
  {
   "cell_type": "code",
   "execution_count": 26,
   "id": "0748deb0",
   "metadata": {},
   "outputs": [
    {
     "data": {
      "text/plain": [
       "(Text(0.5, 0, 'features'), Text(0, 0.5, 'label'))"
      ]
     },
     "execution_count": 26,
     "metadata": {},
     "output_type": "execute_result"
    },
    {
     "data": {
      "image/png": "[encoded data removed]",
      "text/plain": [
       "<Figure size 640x480 with 1 Axes>"
      ]
     },
     "metadata": {},
     "output_type": "display_data"
    }
   ],
   "source": [
    "plt.plot(diabetes_X_train, diabetes_y_train, \"or\")\n",
    "plt.xlabel(\"features\"), plt.ylabel(\"label\")"
   ]
  },
  {
   "cell_type": "code",
   "execution_count": 35,
   "id": "b6adddee",
   "metadata": {},
   "outputs": [
    {
     "name": "stdout",
     "output_type": "stream",
     "text": [
      "iteration: 0, cost: 18984.92041681344\n",
      "iteration: 1000, cost: 5599.861092026065\n",
      "iteration: 2000, cost: 3784.224372145456\n",
      "iteration: 3000, cost: 3532.7990407245034\n",
      "iteration: 4000, cost: 3492.881772635608\n",
      "iteration: 5000, cost: 3481.587139763663\n",
      "iteration: 6000, cost: 3474.1889359748093\n",
      "iteration: 7000, cost: 3467.344061099244\n",
      "iteration: 8000, cost: 3460.600408545262\n",
      "iteration: 9000, cost: 3453.896734203683\n",
      "iteration: 10000, cost: 3447.224639059486\n",
      "iteration: 11000, cost: 3440.582869284184\n",
      "iteration: 12000, cost: 3433.971137612076\n",
      "iteration: 13000, cost: 3427.389287988727\n",
      "iteration: 14000, cost: 3420.837182629156\n",
      "iteration: 15000, cost: 3414.3146867457262\n",
      "iteration: 16000, cost: 3407.821666480971\n",
      "iteration: 17000, cost: 3401.3579886257367\n",
      "iteration: 18000, cost: 3394.9235205787268\n",
      "iteration: 19000, cost: 3388.5181303386707\n"
     ]
    },
    {
     "data": {
      "image/png": "[encoded data removed]",
      "text/plain": [
       "<Figure size 640x480 with 1 Axes>"
      ]
     },
     "metadata": {},
     "output_type": "display_data"
    }
   ],
   "source": [
    "# Now train...\n",
    "model = Model(diabetes_X_train, diabetes_y_train)\n",
    "params = model.initailize_params()\n",
    "# print(params.shape)\n",
    "params = train(diabetes_X_train, diabetes_y_train, model, params, regression = None)"
   ]
  },
  {
   "cell_type": "markdown",
   "id": "aa19c941",
   "metadata": {},
   "source": [
    "## SKlearn implementation\n"
   ]
  },
  {
   "cell_type": "code",
   "execution_count": 16,
   "id": "f4d62d15",
   "metadata": {},
   "outputs": [
    {
     "name": "stdout",
     "output_type": "stream",
     "text": [
      "Coefficients: \n",
      " [938.23786125]\n",
      "Mean squared error: 2548.07\n",
      "Coefficient of determination: 0.47\n"
     ]
    },
    {
     "data": {
      "image/png": "[encoded data removed]",
      "text/plain": [
       "<Figure size 640x480 with 1 Axes>"
      ]
     },
     "metadata": {},
     "output_type": "display_data"
    }
   ],
   "source": [
    "regr = linear_model.LinearRegression()\n",
    "\n",
    "# Train the model using the training sets\n",
    "regr.fit(diabetes_X_train, diabetes_y_train)\n",
    "\n",
    "# Make predictions using the testing set\n",
    "diabetes_y_pred = regr.predict(diabetes_X_test)\n",
    "\n",
    "# The coefficients\n",
    "print(\"Coefficients: \\n\", regr.coef_)\n",
    "# The mean squared error\n",
    "print(\"Mean squared error: %.2f\" % mean_squared_error(diabetes_y_test, diabetes_y_pred))\n",
    "# The coefficient of determination: 1 is perfect prediction\n",
    "print(\"Coefficient of determination: %.2f\" % r2_score(diabetes_y_test, diabetes_y_pred))\n",
    "\n",
    "# Plot outputs\n",
    "plt.scatter(diabetes_X_test, diabetes_y_test, color=\"black\")\n",
    "plt.plot(diabetes_X_test, diabetes_y_pred, color=\"blue\", linewidth=3)\n",
    "\n",
    "plt.xticks(())\n",
    "plt.yticks(())\n",
    "\n",
    "plt.show()"
   ]
  },
  {
   "cell_type": "code",
   "execution_count": null,
   "id": "483dd9d5",
   "metadata": {},
   "outputs": [],
   "source": []
  }
 ],
 "metadata": {
  "kernelspec": {
   "display_name": "Python 3 (ipykernel)",
   "language": "python",
   "name": "python3"
  },
  "language_info": {
   "codemirror_mode": {
    "name": "ipython",
    "version": 3
   },
   "file_extension": ".py",
   "mimetype": "text/x-python",
   "name": "python",
   "nbconvert_exporter": "python",
   "pygments_lexer": "ipython3",
   "version": "3.9.13"
  }
 },
 "nbformat": 4,
 "nbformat_minor": 5
}
